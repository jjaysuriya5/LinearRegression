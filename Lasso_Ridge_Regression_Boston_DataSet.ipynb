{
 "cells": [
  {
   "cell_type": "code",
   "execution_count": 1,
   "metadata": {},
   "outputs": [],
   "source": [
    "import pandas as pd\n",
    "import numpy as np\n",
    "\n",
    "import matplotlib.pyplot as plt\n",
    "%matplotlib inline\n",
    "\n",
    "from sklearn.linear_model import LinearRegression\n",
    "from sklearn.model_selection import train_test_split\n",
    "from sklearn.linear_model import Lasso , Ridge\n",
    "from sklearn.datasets import load_boston\n",
    "from sklearn.metrics import r2_score , mean_squared_error"
   ]
  },
  {
   "cell_type": "code",
   "execution_count": 2,
   "metadata": {},
   "outputs": [],
   "source": [
    "boston = load_boston()\n",
    "boston_df = pd.DataFrame( boston.data , columns = boston.feature_names)\n",
    "boston_df['Price'] = boston.target"
   ]
  },
  {
   "cell_type": "code",
   "execution_count": 3,
   "metadata": {},
   "outputs": [],
   "source": [
    "# boston_df.shape\n",
    "# boston_df.info()\n",
    "# boston_df.head(1)"
   ]
  },
  {
   "cell_type": "code",
   "execution_count": 4,
   "metadata": {},
   "outputs": [
    {
     "data": {
      "text/html": [
       "<div>\n",
       "<style scoped>\n",
       "    .dataframe tbody tr th:only-of-type {\n",
       "        vertical-align: middle;\n",
       "    }\n",
       "\n",
       "    .dataframe tbody tr th {\n",
       "        vertical-align: top;\n",
       "    }\n",
       "\n",
       "    .dataframe thead th {\n",
       "        text-align: right;\n",
       "    }\n",
       "</style>\n",
       "<table border=\"1\" class=\"dataframe\">\n",
       "  <thead>\n",
       "    <tr style=\"text-align: right;\">\n",
       "      <th></th>\n",
       "      <th>CRIM</th>\n",
       "      <th>ZN</th>\n",
       "      <th>INDUS</th>\n",
       "      <th>CHAS</th>\n",
       "      <th>NOX</th>\n",
       "      <th>RM</th>\n",
       "      <th>AGE</th>\n",
       "      <th>DIS</th>\n",
       "      <th>RAD</th>\n",
       "      <th>TAX</th>\n",
       "      <th>PTRATIO</th>\n",
       "      <th>B</th>\n",
       "      <th>LSTAT</th>\n",
       "      <th>Price</th>\n",
       "    </tr>\n",
       "  </thead>\n",
       "  <tbody>\n",
       "    <tr>\n",
       "      <th>0</th>\n",
       "      <td>0.00632</td>\n",
       "      <td>18.0</td>\n",
       "      <td>2.31</td>\n",
       "      <td>0.0</td>\n",
       "      <td>0.538</td>\n",
       "      <td>6.575</td>\n",
       "      <td>65.2</td>\n",
       "      <td>4.09</td>\n",
       "      <td>1.0</td>\n",
       "      <td>296.0</td>\n",
       "      <td>15.3</td>\n",
       "      <td>396.9</td>\n",
       "      <td>4.98</td>\n",
       "      <td>24.0</td>\n",
       "    </tr>\n",
       "  </tbody>\n",
       "</table>\n",
       "</div>"
      ],
      "text/plain": [
       "      CRIM    ZN  INDUS  CHAS    NOX     RM   AGE   DIS  RAD    TAX  PTRATIO  \\\n",
       "0  0.00632  18.0   2.31   0.0  0.538  6.575  65.2  4.09  1.0  296.0     15.3   \n",
       "\n",
       "       B  LSTAT  Price  \n",
       "0  396.9   4.98   24.0  "
      ]
     },
     "execution_count": 4,
     "metadata": {},
     "output_type": "execute_result"
    }
   ],
   "source": [
    "boston_df.head(1)"
   ]
  },
  {
   "cell_type": "code",
   "execution_count": 5,
   "metadata": {},
   "outputs": [],
   "source": [
    "x = boston_df.drop('Price' , axis = 1)\n"
   ]
  },
  {
   "cell_type": "code",
   "execution_count": 6,
   "metadata": {},
   "outputs": [
    {
     "data": {
      "text/plain": [
       "Index(['CRIM', 'ZN', 'INDUS', 'CHAS', 'NOX', 'RM', 'AGE', 'DIS', 'RAD', 'TAX',\n",
       "       'PTRATIO', 'B', 'LSTAT', 'Price'],\n",
       "      dtype='object')"
      ]
     },
     "execution_count": 6,
     "metadata": {},
     "output_type": "execute_result"
    }
   ],
   "source": [
    "boston_df.columns"
   ]
  },
  {
   "cell_type": "code",
   "execution_count": 7,
   "metadata": {},
   "outputs": [],
   "source": [
    "y = boston_df.loc[:,'Price']"
   ]
  },
  {
   "cell_type": "code",
   "execution_count": 8,
   "metadata": {},
   "outputs": [
    {
     "data": {
      "text/plain": [
       "0    24.0\n",
       "1    21.6\n",
       "2    34.7\n",
       "3    33.4\n",
       "4    36.2\n",
       "Name: Price, dtype: float64"
      ]
     },
     "execution_count": 8,
     "metadata": {},
     "output_type": "execute_result"
    }
   ],
   "source": [
    "y.head()"
   ]
  },
  {
   "cell_type": "code",
   "execution_count": 9,
   "metadata": {},
   "outputs": [],
   "source": [
    "x_train , x_test , y_train ,y_test = train_test_split( x , y , \n",
    "                                                     test_size = 0.3 , random_state = 3)"
   ]
  },
  {
   "cell_type": "code",
   "execution_count": 10,
   "metadata": {},
   "outputs": [
    {
     "data": {
      "text/plain": [
       "LinearRegression(copy_X=True, fit_intercept=True, n_jobs=None, normalize=False)"
      ]
     },
     "execution_count": 10,
     "metadata": {},
     "output_type": "execute_result"
    }
   ],
   "source": [
    "reg = LinearRegression()\n",
    "reg.fit( x_train , y_train )"
   ]
  },
  {
   "cell_type": "code",
   "execution_count": 11,
   "metadata": {},
   "outputs": [
    {
     "data": {
      "text/plain": [
       "numpy.ndarray"
      ]
     },
     "execution_count": 11,
     "metadata": {},
     "output_type": "execute_result"
    }
   ],
   "source": [
    "type(reg.coef_)"
   ]
  },
  {
   "cell_type": "code",
   "execution_count": 12,
   "metadata": {},
   "outputs": [
    {
     "name": "stdout",
     "output_type": "stream",
     "text": [
      "[-1.28899229e-01  4.62536564e-02 -5.41974027e-02  3.83208843e+00\n",
      " -1.24514995e+01  3.72790367e+00  7.37824474e-03 -1.19551784e+00\n",
      "  2.80152377e-01 -7.75364999e-03 -8.27122705e-01  1.25331573e-02\n",
      " -5.56644117e-01]\n",
      "28.744950121672087\n",
      "- 0.12889922856564193 + 0.04625365637346018 - 0.05419740269623912 + 3.832088428391673 - 12.451499513194701 + 3.7279036729105357 + 0.0073782447423236 - 1.1955178354378078 + 0.2801523771179779 - 0.007753649991246183 - 0.827122705173772 + 0.012533157303228482 - 0.5566441165591411 \n"
     ]
    }
   ],
   "source": [
    "print(reg.coef_)\n",
    "print(reg.intercept_)\n",
    "slope = list(reg.coef_)\n",
    "sign = ['-' if ip < 0 else '+' for ip in slope]\n",
    "s = ''\n",
    "for i in range(0,len(slope)):\n",
    "    s = s + sign[i] + ' ' + str(slope[i]).lstrip('-') + ' '\n",
    "print(s)\n",
    "    \n",
    "#     print( 'The Linear equation is Y = ')"
   ]
  },
  {
   "cell_type": "code",
   "execution_count": 13,
   "metadata": {},
   "outputs": [
    {
     "name": "stdout",
     "output_type": "stream",
     "text": [
      "The mean square value is  22.431936070737528\n",
      "The root mean square value is  4.736236488050141\n",
      "The R2 value is  0.7147895265576849\n"
     ]
    }
   ],
   "source": [
    "# error\n",
    "y_pred = reg.predict(x_test)\n",
    "mse = mean_squared_error( y_test , y_pred)\n",
    "rmse = np.sqrt(mse)\n",
    "r2 = r2_score(y_test , y_pred)\n",
    "\n",
    "print('The mean square value is ' , mse )\n",
    "print('The root mean square value is ', rmse )\n",
    "print('The R2 value is ',r2)"
   ]
  },
  {
   "cell_type": "code",
   "execution_count": 17,
   "metadata": {},
   "outputs": [
    {
     "data": {
      "text/plain": [
       "[<matplotlib.lines.Line2D at 0x13fa68bcf60>]"
      ]
     },
     "execution_count": 17,
     "metadata": {},
     "output_type": "execute_result"
    },
    {
     "data": {
      "image/png": "[encoded data removed]",
      "text/plain": [
       "<Figure size 504x504 with 1 Axes>"
      ]
     },
     "metadata": {
      "needs_background": "light"
     },
     "output_type": "display_data"
    }
   ],
   "source": [
    "# Residual graph\n",
    "x1 = [i for i in range(1,len(y_test)+1)]\n",
    "fig = plt.figure(figsize = (7,7))\n",
    "plt.scatter( x1, y_test - y_pred ) \n",
    "plt.xlim(0,10)\n",
    "plt.plot( x1 , y_test*0 , color ='red')"
   ]
  },
  {
   "cell_type": "code",
   "execution_count": 16,
   "metadata": {},
   "outputs": [
    {
     "data": {
      "text/html": [
       "<div>\n",
       "<style scoped>\n",
       "    .dataframe tbody tr th:only-of-type {\n",
       "        vertical-align: middle;\n",
       "    }\n",
       "\n",
       "    .dataframe tbody tr th {\n",
       "        vertical-align: top;\n",
       "    }\n",
       "\n",
       "    .dataframe thead th {\n",
       "        text-align: right;\n",
       "    }\n",
       "</style>\n",
       "<table border=\"1\" class=\"dataframe\">\n",
       "  <thead>\n",
       "    <tr style=\"text-align: right;\">\n",
       "      <th></th>\n",
       "      <th>x</th>\n",
       "      <th>y</th>\n",
       "    </tr>\n",
       "  </thead>\n",
       "  <tbody>\n",
       "    <tr>\n",
       "      <th>224</th>\n",
       "      <td>1</td>\n",
       "      <td>6.784715</td>\n",
       "    </tr>\n",
       "    <tr>\n",
       "      <th>137</th>\n",
       "      <td>2</td>\n",
       "      <td>-2.232751</td>\n",
       "    </tr>\n",
       "    <tr>\n",
       "      <th>453</th>\n",
       "      <td>3</td>\n",
       "      <td>-5.628153</td>\n",
       "    </tr>\n",
       "    <tr>\n",
       "      <th>303</th>\n",
       "      <td>4</td>\n",
       "      <td>0.642013</td>\n",
       "    </tr>\n",
       "    <tr>\n",
       "      <th>254</th>\n",
       "      <td>5</td>\n",
       "      <td>-2.983812</td>\n",
       "    </tr>\n",
       "    <tr>\n",
       "      <th>37</th>\n",
       "      <td>6</td>\n",
       "      <td>-2.058712</td>\n",
       "    </tr>\n",
       "    <tr>\n",
       "      <th>442</th>\n",
       "      <td>7</td>\n",
       "      <td>-1.520727</td>\n",
       "    </tr>\n",
       "    <tr>\n",
       "      <th>417</th>\n",
       "      <td>8</td>\n",
       "      <td>4.354656</td>\n",
       "    </tr>\n",
       "    <tr>\n",
       "      <th>16</th>\n",
       "      <td>9</td>\n",
       "      <td>2.111444</td>\n",
       "    </tr>\n",
       "    <tr>\n",
       "      <th>209</th>\n",
       "      <td>10</td>\n",
       "      <td>2.404884</td>\n",
       "    </tr>\n",
       "    <tr>\n",
       "      <th>126</th>\n",
       "      <td>11</td>\n",
       "      <td>3.466650</td>\n",
       "    </tr>\n",
       "    <tr>\n",
       "      <th>157</th>\n",
       "      <td>12</td>\n",
       "      <td>8.832714</td>\n",
       "    </tr>\n",
       "    <tr>\n",
       "      <th>196</th>\n",
       "      <td>13</td>\n",
       "      <td>-2.996989</td>\n",
       "    </tr>\n",
       "    <tr>\n",
       "      <th>266</th>\n",
       "      <td>14</td>\n",
       "      <td>-0.001305</td>\n",
       "    </tr>\n",
       "    <tr>\n",
       "      <th>404</th>\n",
       "      <td>15</td>\n",
       "      <td>1.650426</td>\n",
       "    </tr>\n",
       "    <tr>\n",
       "      <th>399</th>\n",
       "      <td>16</td>\n",
       "      <td>-4.560253</td>\n",
       "    </tr>\n",
       "    <tr>\n",
       "      <th>116</th>\n",
       "      <td>17</td>\n",
       "      <td>-2.304925</td>\n",
       "    </tr>\n",
       "    <tr>\n",
       "      <th>127</th>\n",
       "      <td>18</td>\n",
       "      <td>1.108321</td>\n",
       "    </tr>\n",
       "    <tr>\n",
       "      <th>134</th>\n",
       "      <td>19</td>\n",
       "      <td>2.699153</td>\n",
       "    </tr>\n",
       "    <tr>\n",
       "      <th>201</th>\n",
       "      <td>20</td>\n",
       "      <td>-5.440460</td>\n",
       "    </tr>\n",
       "    <tr>\n",
       "      <th>503</th>\n",
       "      <td>21</td>\n",
       "      <td>-3.770592</td>\n",
       "    </tr>\n",
       "    <tr>\n",
       "      <th>161</th>\n",
       "      <td>22</td>\n",
       "      <td>13.958916</td>\n",
       "    </tr>\n",
       "    <tr>\n",
       "      <th>287</th>\n",
       "      <td>23</td>\n",
       "      <td>-3.945569</td>\n",
       "    </tr>\n",
       "    <tr>\n",
       "      <th>73</th>\n",
       "      <td>24</td>\n",
       "      <td>-0.001888</td>\n",
       "    </tr>\n",
       "    <tr>\n",
       "      <th>439</th>\n",
       "      <td>25</td>\n",
       "      <td>-1.126899</td>\n",
       "    </tr>\n",
       "    <tr>\n",
       "      <th>325</th>\n",
       "      <td>26</td>\n",
       "      <td>-0.259618</td>\n",
       "    </tr>\n",
       "    <tr>\n",
       "      <th>112</th>\n",
       "      <td>27</td>\n",
       "      <td>-2.025896</td>\n",
       "    </tr>\n",
       "    <tr>\n",
       "      <th>310</th>\n",
       "      <td>28</td>\n",
       "      <td>-1.701549</td>\n",
       "    </tr>\n",
       "    <tr>\n",
       "      <th>14</th>\n",
       "      <td>29</td>\n",
       "      <td>-1.759469</td>\n",
       "    </tr>\n",
       "    <tr>\n",
       "      <th>230</th>\n",
       "      <td>30</td>\n",
       "      <td>0.100212</td>\n",
       "    </tr>\n",
       "    <tr>\n",
       "      <th>...</th>\n",
       "      <td>...</td>\n",
       "      <td>...</td>\n",
       "    </tr>\n",
       "    <tr>\n",
       "      <th>396</th>\n",
       "      <td>123</td>\n",
       "      <td>-7.503137</td>\n",
       "    </tr>\n",
       "    <tr>\n",
       "      <th>59</th>\n",
       "      <td>124</td>\n",
       "      <td>-2.112642</td>\n",
       "    </tr>\n",
       "    <tr>\n",
       "      <th>496</th>\n",
       "      <td>125</td>\n",
       "      <td>5.540746</td>\n",
       "    </tr>\n",
       "    <tr>\n",
       "      <th>105</th>\n",
       "      <td>126</td>\n",
       "      <td>0.796992</td>\n",
       "    </tr>\n",
       "    <tr>\n",
       "      <th>10</th>\n",
       "      <td>127</td>\n",
       "      <td>-4.177285</td>\n",
       "    </tr>\n",
       "    <tr>\n",
       "      <th>55</th>\n",
       "      <td>128</td>\n",
       "      <td>3.662034</td>\n",
       "    </tr>\n",
       "    <tr>\n",
       "      <th>457</th>\n",
       "      <td>129</td>\n",
       "      <td>0.806102</td>\n",
       "    </tr>\n",
       "    <tr>\n",
       "      <th>338</th>\n",
       "      <td>130</td>\n",
       "      <td>-1.740297</td>\n",
       "    </tr>\n",
       "    <tr>\n",
       "      <th>56</th>\n",
       "      <td>131</td>\n",
       "      <td>-1.490077</td>\n",
       "    </tr>\n",
       "    <tr>\n",
       "      <th>364</th>\n",
       "      <td>132</td>\n",
       "      <td>-17.724436</td>\n",
       "    </tr>\n",
       "    <tr>\n",
       "      <th>441</th>\n",
       "      <td>133</td>\n",
       "      <td>-1.149132</td>\n",
       "    </tr>\n",
       "    <tr>\n",
       "      <th>88</th>\n",
       "      <td>134</td>\n",
       "      <td>-7.188421</td>\n",
       "    </tr>\n",
       "    <tr>\n",
       "      <th>270</th>\n",
       "      <td>135</td>\n",
       "      <td>-0.584581</td>\n",
       "    </tr>\n",
       "    <tr>\n",
       "      <th>24</th>\n",
       "      <td>136</td>\n",
       "      <td>-0.666325</td>\n",
       "    </tr>\n",
       "    <tr>\n",
       "      <th>114</th>\n",
       "      <td>137</td>\n",
       "      <td>-6.774754</td>\n",
       "    </tr>\n",
       "    <tr>\n",
       "      <th>425</th>\n",
       "      <td>138</td>\n",
       "      <td>-0.737224</td>\n",
       "    </tr>\n",
       "    <tr>\n",
       "      <th>31</th>\n",
       "      <td>139</td>\n",
       "      <td>-4.146262</td>\n",
       "    </tr>\n",
       "    <tr>\n",
       "      <th>343</th>\n",
       "      <td>140</td>\n",
       "      <td>-4.631837</td>\n",
       "    </tr>\n",
       "    <tr>\n",
       "      <th>144</th>\n",
       "      <td>141</td>\n",
       "      <td>3.141700</td>\n",
       "    </tr>\n",
       "    <tr>\n",
       "      <th>177</th>\n",
       "      <td>142</td>\n",
       "      <td>-4.517608</td>\n",
       "    </tr>\n",
       "    <tr>\n",
       "      <th>251</th>\n",
       "      <td>143</td>\n",
       "      <td>-0.805609</td>\n",
       "    </tr>\n",
       "    <tr>\n",
       "      <th>340</th>\n",
       "      <td>144</td>\n",
       "      <td>-3.029152</td>\n",
       "    </tr>\n",
       "    <tr>\n",
       "      <th>412</th>\n",
       "      <td>145</td>\n",
       "      <td>17.780625</td>\n",
       "    </tr>\n",
       "    <tr>\n",
       "      <th>262</th>\n",
       "      <td>146</td>\n",
       "      <td>8.062191</td>\n",
       "    </tr>\n",
       "    <tr>\n",
       "      <th>449</th>\n",
       "      <td>147</td>\n",
       "      <td>-4.866755</td>\n",
       "    </tr>\n",
       "    <tr>\n",
       "      <th>185</th>\n",
       "      <td>148</td>\n",
       "      <td>5.394968</td>\n",
       "    </tr>\n",
       "    <tr>\n",
       "      <th>128</th>\n",
       "      <td>149</td>\n",
       "      <td>-0.888049</td>\n",
       "    </tr>\n",
       "    <tr>\n",
       "      <th>469</th>\n",
       "      <td>150</td>\n",
       "      <td>1.292996</td>\n",
       "    </tr>\n",
       "    <tr>\n",
       "      <th>123</th>\n",
       "      <td>151</td>\n",
       "      <td>3.175788</td>\n",
       "    </tr>\n",
       "    <tr>\n",
       "      <th>347</th>\n",
       "      <td>152</td>\n",
       "      <td>-3.270495</td>\n",
       "    </tr>\n",
       "  </tbody>\n",
       "</table>\n",
       "<p>152 rows × 2 columns</p>\n",
       "</div>"
      ],
      "text/plain": [
       "       x          y\n",
       "224    1   6.784715\n",
       "137    2  -2.232751\n",
       "453    3  -5.628153\n",
       "303    4   0.642013\n",
       "254    5  -2.983812\n",
       "37     6  -2.058712\n",
       "442    7  -1.520727\n",
       "417    8   4.354656\n",
       "16     9   2.111444\n",
       "209   10   2.404884\n",
       "126   11   3.466650\n",
       "157   12   8.832714\n",
       "196   13  -2.996989\n",
       "266   14  -0.001305\n",
       "404   15   1.650426\n",
       "399   16  -4.560253\n",
       "116   17  -2.304925\n",
       "127   18   1.108321\n",
       "134   19   2.699153\n",
       "201   20  -5.440460\n",
       "503   21  -3.770592\n",
       "161   22  13.958916\n",
       "287   23  -3.945569\n",
       "73    24  -0.001888\n",
       "439   25  -1.126899\n",
       "325   26  -0.259618\n",
       "112   27  -2.025896\n",
       "310   28  -1.701549\n",
       "14    29  -1.759469\n",
       "230   30   0.100212\n",
       "..   ...        ...\n",
       "396  123  -7.503137\n",
       "59   124  -2.112642\n",
       "496  125   5.540746\n",
       "105  126   0.796992\n",
       "10   127  -4.177285\n",
       "55   128   3.662034\n",
       "457  129   0.806102\n",
       "338  130  -1.740297\n",
       "56   131  -1.490077\n",
       "364  132 -17.724436\n",
       "441  133  -1.149132\n",
       "88   134  -7.188421\n",
       "270  135  -0.584581\n",
       "24   136  -0.666325\n",
       "114  137  -6.774754\n",
       "425  138  -0.737224\n",
       "31   139  -4.146262\n",
       "343  140  -4.631837\n",
       "144  141   3.141700\n",
       "177  142  -4.517608\n",
       "251  143  -0.805609\n",
       "340  144  -3.029152\n",
       "412  145  17.780625\n",
       "262  146   8.062191\n",
       "449  147  -4.866755\n",
       "185  148   5.394968\n",
       "128  149  -0.888049\n",
       "469  150   1.292996\n",
       "123  151   3.175788\n",
       "347  152  -3.270495\n",
       "\n",
       "[152 rows x 2 columns]"
      ]
     },
     "execution_count": 16,
     "metadata": {},
     "output_type": "execute_result"
    }
   ],
   "source": [
    "pd.DataFrame({'x' : x1 , 'y' : y_test - y_pred}).sort_values(by='x')"
   ]
  },
  {
   "cell_type": "code",
   "execution_count": 17,
   "metadata": {},
   "outputs": [
    {
     "data": {
      "text/plain": [
       "<matplotlib.axes._subplots.AxesSubplot at 0x249384d3c50>"
      ]
     },
     "execution_count": 17,
     "metadata": {},
     "output_type": "execute_result"
    },
    {
     "data": {
      "image/png": "[encoded data removed]",
      "text/plain": [
       "<Figure size 720x504 with 1 Axes>"
      ]
     },
     "metadata": {
      "needs_background": "light"
     },
     "output_type": "display_data"
    }
   ],
   "source": [
    "plt.figure(figsize = (10,7) )\n",
    "predictor = x_train.columns\n",
    "coef = pd.Series( reg.coef_ , predictor).sort_values()\n",
    "coef.plot( kind = 'bar' , title = 'Model Coefficient')"
   ]
  },
  {
   "cell_type": "code",
   "execution_count": 54,
   "metadata": {},
   "outputs": [
    {
     "name": "stdout",
     "output_type": "stream",
     "text": [
      "RMSE =  4.8099859419715285 R2 =   0.7058381656181565\n"
     ]
    }
   ],
   "source": [
    "# Ridge regression \n",
    "\n",
    "from sklearn.linear_model import Ridge\n",
    "''' alpha is hyperparameter of a Ridge , which means that they are not automatically learned by the model \n",
    "instead they have to be set '''\n",
    "\n",
    "# alpha_range = [0.01 , 0.05 , 0.5 , 5 ]\n",
    "\n",
    "ridgereg = Ridge(alpha = 0.05 , normalize = True)\n",
    "ridgereg.fit(x_train , y_train )\n",
    "pred = ridgereg.predict(x_test)\n",
    "rmse = np.sqrt(mean_squared_error(y_test , pred ) )\n",
    "r2 = r2_score(y_test , pred )\n",
    "print('RMSE = ' , rmse , 'R2 =  ',r2)"
   ]
  },
  {
   "cell_type": "code",
   "execution_count": null,
   "metadata": {},
   "outputs": [],
   "source": []
  },
  {
   "cell_type": "code",
   "execution_count": 55,
   "metadata": {},
   "outputs": [
    {
     "data": {
      "text/html": [
       "<div>\n",
       "<style scoped>\n",
       "    .dataframe tbody tr th:only-of-type {\n",
       "        vertical-align: middle;\n",
       "    }\n",
       "\n",
       "    .dataframe tbody tr th {\n",
       "        vertical-align: top;\n",
       "    }\n",
       "\n",
       "    .dataframe thead th {\n",
       "        text-align: right;\n",
       "    }\n",
       "</style>\n",
       "<table border=\"1\" class=\"dataframe\">\n",
       "  <thead>\n",
       "    <tr style=\"text-align: right;\">\n",
       "      <th></th>\n",
       "      <th>Linear Reg</th>\n",
       "      <th>Ridge Reg</th>\n",
       "      <th>Columns</th>\n",
       "    </tr>\n",
       "  </thead>\n",
       "  <tbody>\n",
       "    <tr>\n",
       "      <th>4</th>\n",
       "      <td>-12.451500</td>\n",
       "      <td>-9.107753</td>\n",
       "      <td>NOX</td>\n",
       "    </tr>\n",
       "    <tr>\n",
       "      <th>7</th>\n",
       "      <td>-1.195518</td>\n",
       "      <td>-0.999075</td>\n",
       "      <td>DIS</td>\n",
       "    </tr>\n",
       "    <tr>\n",
       "      <th>10</th>\n",
       "      <td>-0.827123</td>\n",
       "      <td>-0.767271</td>\n",
       "      <td>PTRATIO</td>\n",
       "    </tr>\n",
       "    <tr>\n",
       "      <th>12</th>\n",
       "      <td>-0.556644</td>\n",
       "      <td>-0.519870</td>\n",
       "      <td>LSTAT</td>\n",
       "    </tr>\n",
       "    <tr>\n",
       "      <th>0</th>\n",
       "      <td>-0.128899</td>\n",
       "      <td>-0.115389</td>\n",
       "      <td>CRIM</td>\n",
       "    </tr>\n",
       "    <tr>\n",
       "      <th>2</th>\n",
       "      <td>-0.054197</td>\n",
       "      <td>-0.083776</td>\n",
       "      <td>INDUS</td>\n",
       "    </tr>\n",
       "    <tr>\n",
       "      <th>9</th>\n",
       "      <td>-0.007754</td>\n",
       "      <td>-0.003916</td>\n",
       "      <td>TAX</td>\n",
       "    </tr>\n",
       "    <tr>\n",
       "      <th>6</th>\n",
       "      <td>0.007378</td>\n",
       "      <td>0.002550</td>\n",
       "      <td>AGE</td>\n",
       "    </tr>\n",
       "    <tr>\n",
       "      <th>11</th>\n",
       "      <td>0.012533</td>\n",
       "      <td>0.012221</td>\n",
       "      <td>B</td>\n",
       "    </tr>\n",
       "    <tr>\n",
       "      <th>1</th>\n",
       "      <td>0.046254</td>\n",
       "      <td>0.037433</td>\n",
       "      <td>ZN</td>\n",
       "    </tr>\n",
       "    <tr>\n",
       "      <th>8</th>\n",
       "      <td>0.280152</td>\n",
       "      <td>0.185377</td>\n",
       "      <td>RAD</td>\n",
       "    </tr>\n",
       "    <tr>\n",
       "      <th>5</th>\n",
       "      <td>3.727904</td>\n",
       "      <td>3.885508</td>\n",
       "      <td>RM</td>\n",
       "    </tr>\n",
       "    <tr>\n",
       "      <th>3</th>\n",
       "      <td>3.832088</td>\n",
       "      <td>3.979907</td>\n",
       "      <td>CHAS</td>\n",
       "    </tr>\n",
       "  </tbody>\n",
       "</table>\n",
       "</div>"
      ],
      "text/plain": [
       "    Linear Reg  Ridge Reg  Columns\n",
       "4   -12.451500  -9.107753      NOX\n",
       "7    -1.195518  -0.999075      DIS\n",
       "10   -0.827123  -0.767271  PTRATIO\n",
       "12   -0.556644  -0.519870    LSTAT\n",
       "0    -0.128899  -0.115389     CRIM\n",
       "2    -0.054197  -0.083776    INDUS\n",
       "9    -0.007754  -0.003916      TAX\n",
       "6     0.007378   0.002550      AGE\n",
       "11    0.012533   0.012221        B\n",
       "1     0.046254   0.037433       ZN\n",
       "8     0.280152   0.185377      RAD\n",
       "5     3.727904   3.885508       RM\n",
       "3     3.832088   3.979907     CHAS"
      ]
     },
     "execution_count": 55,
     "metadata": {},
     "output_type": "execute_result"
    }
   ],
   "source": [
    "df = pd.DataFrame(columns = ['Linear Reg' , 'Ridge Reg' , 'Columns'])\n",
    "\n",
    "for i in range(len(ridgereg.coef_)):\n",
    "    df = df.append({'Linear Reg' : reg.coef_[i] , 'Ridge Reg' : ridgereg.coef_[i] , 'Columns' : predictor[i] } , ignore_index = True )\n",
    "\n",
    "df = df.sort_values(by='Linear Reg')\n",
    "df"
   ]
  },
  {
   "cell_type": "code",
   "execution_count": 52,
   "metadata": {},
   "outputs": [
    {
     "data": {
      "text/plain": [
       "<BarContainer object of 13 artists>"
      ]
     },
     "execution_count": 52,
     "metadata": {},
     "output_type": "execute_result"
    },
    {
     "data": {
      "image/png": "[encoded data removed]",
      "text/plain": [
       "<Figure size 720x576 with 1 Axes>"
      ]
     },
     "metadata": {
      "needs_background": "light"
     },
     "output_type": "display_data"
    }
   ],
   "source": [
    "plt.figure(figsize = (10,8))\n",
    "plt.bar( x ='Columns'  , height = 'Linear Reg' , data = df)"
   ]
  },
  {
   "cell_type": "code",
   "execution_count": 48,
   "metadata": {},
   "outputs": [],
   "source": [
    "plt.bar?"
   ]
  },
  {
   "cell_type": "code",
   "execution_count": 43,
   "metadata": {},
   "outputs": [
    {
     "data": {
      "text/html": [
       "<div>\n",
       "<style scoped>\n",
       "    .dataframe tbody tr th:only-of-type {\n",
       "        vertical-align: middle;\n",
       "    }\n",
       "\n",
       "    .dataframe tbody tr th {\n",
       "        vertical-align: top;\n",
       "    }\n",
       "\n",
       "    .dataframe thead th {\n",
       "        text-align: right;\n",
       "    }\n",
       "</style>\n",
       "<table border=\"1\" class=\"dataframe\">\n",
       "  <thead>\n",
       "    <tr style=\"text-align: right;\">\n",
       "      <th></th>\n",
       "      <th>Linear Reg</th>\n",
       "      <th>Ridge Reg</th>\n",
       "    </tr>\n",
       "  </thead>\n",
       "  <tbody>\n",
       "    <tr>\n",
       "      <th>4</th>\n",
       "      <td>-12.451500</td>\n",
       "      <td>-3.881678</td>\n",
       "    </tr>\n",
       "    <tr>\n",
       "      <th>7</th>\n",
       "      <td>-1.195518</td>\n",
       "      <td>-0.416591</td>\n",
       "    </tr>\n",
       "    <tr>\n",
       "      <th>10</th>\n",
       "      <td>-0.827123</td>\n",
       "      <td>-0.580968</td>\n",
       "    </tr>\n",
       "    <tr>\n",
       "      <th>12</th>\n",
       "      <td>-0.556644</td>\n",
       "      <td>-0.353778</td>\n",
       "    </tr>\n",
       "    <tr>\n",
       "      <th>0</th>\n",
       "      <td>-0.128899</td>\n",
       "      <td>-0.079975</td>\n",
       "    </tr>\n",
       "    <tr>\n",
       "      <th>2</th>\n",
       "      <td>-0.054197</td>\n",
       "      <td>-0.087935</td>\n",
       "    </tr>\n",
       "    <tr>\n",
       "      <th>9</th>\n",
       "      <td>-0.007754</td>\n",
       "      <td>-0.001849</td>\n",
       "    </tr>\n",
       "    <tr>\n",
       "      <th>6</th>\n",
       "      <td>0.007378</td>\n",
       "      <td>-0.007221</td>\n",
       "    </tr>\n",
       "    <tr>\n",
       "      <th>11</th>\n",
       "      <td>0.012533</td>\n",
       "      <td>0.009449</td>\n",
       "    </tr>\n",
       "    <tr>\n",
       "      <th>1</th>\n",
       "      <td>0.046254</td>\n",
       "      <td>0.023740</td>\n",
       "    </tr>\n",
       "    <tr>\n",
       "      <th>8</th>\n",
       "      <td>0.280152</td>\n",
       "      <td>0.041056</td>\n",
       "    </tr>\n",
       "    <tr>\n",
       "      <th>5</th>\n",
       "      <td>3.727904</td>\n",
       "      <td>3.460688</td>\n",
       "    </tr>\n",
       "    <tr>\n",
       "      <th>3</th>\n",
       "      <td>3.832088</td>\n",
       "      <td>3.718805</td>\n",
       "    </tr>\n",
       "  </tbody>\n",
       "</table>\n",
       "</div>"
      ],
      "text/plain": [
       "    Linear Reg  Ridge Reg\n",
       "4   -12.451500  -3.881678\n",
       "7    -1.195518  -0.416591\n",
       "10   -0.827123  -0.580968\n",
       "12   -0.556644  -0.353778\n",
       "0    -0.128899  -0.079975\n",
       "2    -0.054197  -0.087935\n",
       "9    -0.007754  -0.001849\n",
       "6     0.007378  -0.007221\n",
       "11    0.012533   0.009449\n",
       "1     0.046254   0.023740\n",
       "8     0.280152   0.041056\n",
       "5     3.727904   3.460688\n",
       "3     3.832088   3.718805"
      ]
     },
     "execution_count": 43,
     "metadata": {},
     "output_type": "execute_result"
    }
   ],
   "source": [
    "df.sort_values(by='Linear Reg')"
   ]
  },
  {
   "cell_type": "code",
   "execution_count": 31,
   "metadata": {},
   "outputs": [
    {
     "data": {
      "text/plain": [
       "array([-7.99749270e-02,  2.37399828e-02, -8.79351862e-02,  3.71880462e+00,\n",
       "       -3.88167776e+00,  3.46068798e+00, -7.22116793e-03, -4.16591250e-01,\n",
       "        4.10557126e-02, -1.84911090e-03, -5.80967931e-01,  9.44948515e-03,\n",
       "       -3.53778024e-01])"
      ]
     },
     "execution_count": 31,
     "metadata": {},
     "output_type": "execute_result"
    }
   ],
   "source": [
    "ridgereg.coef_"
   ]
  },
  {
   "cell_type": "code",
   "execution_count": null,
   "metadata": {},
   "outputs": [],
   "source": []
  },
  {
   "cell_type": "code",
   "execution_count": 64,
   "metadata": {},
   "outputs": [
    {
     "name": "stdout",
     "output_type": "stream",
     "text": [
      "RMSE =  4.737706970653445 R2 =   0.714612397672054\n"
     ]
    }
   ],
   "source": [
    "# Lasso\n",
    "\n",
    "# Ridge regression \n",
    "\n",
    "from sklearn.linear_model import Lasso\n",
    "''' alpha is hyperparameter of a Ridge , which means that they are not automatically learned by the model \n",
    "instead they have to be set '''\n",
    "\n",
    "# alpha_range = [0.01 , 0.5 , 0.5 , 5 ]\n",
    "\n",
    "lassoreg = Lasso(alpha = 0.0001 , normalize = True)\n",
    "lassoreg.fit(x_train , y_train )\n",
    "pred = lassoreg.predict(x_test)\n",
    "rmse = np.sqrt(mean_squared_error(y_test , pred ) )\n",
    "r2 = r2_score(y_test , pred )\n",
    "print('RMSE = ' , rmse , 'R2 =  ',r2)"
   ]
  },
  {
   "cell_type": "code",
   "execution_count": 65,
   "metadata": {},
   "outputs": [
    {
     "data": {
      "text/html": [
       "<div>\n",
       "<style scoped>\n",
       "    .dataframe tbody tr th:only-of-type {\n",
       "        vertical-align: middle;\n",
       "    }\n",
       "\n",
       "    .dataframe tbody tr th {\n",
       "        vertical-align: top;\n",
       "    }\n",
       "\n",
       "    .dataframe thead th {\n",
       "        text-align: right;\n",
       "    }\n",
       "</style>\n",
       "<table border=\"1\" class=\"dataframe\">\n",
       "  <thead>\n",
       "    <tr style=\"text-align: right;\">\n",
       "      <th></th>\n",
       "      <th>Linear Reg</th>\n",
       "      <th>Ridge Reg</th>\n",
       "      <th>Lasso Reg</th>\n",
       "      <th>Columns</th>\n",
       "    </tr>\n",
       "  </thead>\n",
       "  <tbody>\n",
       "    <tr>\n",
       "      <th>4</th>\n",
       "      <td>-12.451500</td>\n",
       "      <td>-9.107753</td>\n",
       "      <td>-12.339188</td>\n",
       "      <td>NOX</td>\n",
       "    </tr>\n",
       "    <tr>\n",
       "      <th>7</th>\n",
       "      <td>-1.195518</td>\n",
       "      <td>-0.999075</td>\n",
       "      <td>-1.190939</td>\n",
       "      <td>DIS</td>\n",
       "    </tr>\n",
       "    <tr>\n",
       "      <th>10</th>\n",
       "      <td>-0.827123</td>\n",
       "      <td>-0.767271</td>\n",
       "      <td>-0.825523</td>\n",
       "      <td>PTRATIO</td>\n",
       "    </tr>\n",
       "    <tr>\n",
       "      <th>12</th>\n",
       "      <td>-0.556644</td>\n",
       "      <td>-0.519870</td>\n",
       "      <td>-0.556493</td>\n",
       "      <td>LSTAT</td>\n",
       "    </tr>\n",
       "    <tr>\n",
       "      <th>0</th>\n",
       "      <td>-0.128899</td>\n",
       "      <td>-0.115389</td>\n",
       "      <td>-0.128330</td>\n",
       "      <td>CRIM</td>\n",
       "    </tr>\n",
       "    <tr>\n",
       "      <th>2</th>\n",
       "      <td>-0.054197</td>\n",
       "      <td>-0.083776</td>\n",
       "      <td>-0.054799</td>\n",
       "      <td>INDUS</td>\n",
       "    </tr>\n",
       "    <tr>\n",
       "      <th>9</th>\n",
       "      <td>-0.007754</td>\n",
       "      <td>-0.003916</td>\n",
       "      <td>-0.007615</td>\n",
       "      <td>TAX</td>\n",
       "    </tr>\n",
       "    <tr>\n",
       "      <th>6</th>\n",
       "      <td>0.007378</td>\n",
       "      <td>0.002550</td>\n",
       "      <td>0.007096</td>\n",
       "      <td>AGE</td>\n",
       "    </tr>\n",
       "    <tr>\n",
       "      <th>11</th>\n",
       "      <td>0.012533</td>\n",
       "      <td>0.012221</td>\n",
       "      <td>0.012517</td>\n",
       "      <td>B</td>\n",
       "    </tr>\n",
       "    <tr>\n",
       "      <th>1</th>\n",
       "      <td>0.046254</td>\n",
       "      <td>0.037433</td>\n",
       "      <td>0.045914</td>\n",
       "      <td>ZN</td>\n",
       "    </tr>\n",
       "    <tr>\n",
       "      <th>8</th>\n",
       "      <td>0.280152</td>\n",
       "      <td>0.185377</td>\n",
       "      <td>0.276970</td>\n",
       "      <td>RAD</td>\n",
       "    </tr>\n",
       "    <tr>\n",
       "      <th>5</th>\n",
       "      <td>3.727904</td>\n",
       "      <td>3.885508</td>\n",
       "      <td>3.733181</td>\n",
       "      <td>RM</td>\n",
       "    </tr>\n",
       "    <tr>\n",
       "      <th>3</th>\n",
       "      <td>3.832088</td>\n",
       "      <td>3.979907</td>\n",
       "      <td>3.831867</td>\n",
       "      <td>CHAS</td>\n",
       "    </tr>\n",
       "  </tbody>\n",
       "</table>\n",
       "</div>"
      ],
      "text/plain": [
       "    Linear Reg  Ridge Reg  Lasso Reg  Columns\n",
       "4   -12.451500  -9.107753 -12.339188      NOX\n",
       "7    -1.195518  -0.999075  -1.190939      DIS\n",
       "10   -0.827123  -0.767271  -0.825523  PTRATIO\n",
       "12   -0.556644  -0.519870  -0.556493    LSTAT\n",
       "0    -0.128899  -0.115389  -0.128330     CRIM\n",
       "2    -0.054197  -0.083776  -0.054799    INDUS\n",
       "9    -0.007754  -0.003916  -0.007615      TAX\n",
       "6     0.007378   0.002550   0.007096      AGE\n",
       "11    0.012533   0.012221   0.012517        B\n",
       "1     0.046254   0.037433   0.045914       ZN\n",
       "8     0.280152   0.185377   0.276970      RAD\n",
       "5     3.727904   3.885508   3.733181       RM\n",
       "3     3.832088   3.979907   3.831867     CHAS"
      ]
     },
     "execution_count": 65,
     "metadata": {},
     "output_type": "execute_result"
    }
   ],
   "source": [
    "df = pd.DataFrame(columns = ['Linear Reg' , 'Ridge Reg' , 'Lasso Reg', 'Columns'])\n",
    "\n",
    "for i in range(len(ridgereg.coef_)):\n",
    "    df = df.append({'Linear Reg' : reg.coef_[i] , 'Ridge Reg' : ridgereg.coef_[i] \n",
    "                    , 'Columns' : predictor[i] , 'Lasso Reg' :lassoreg.coef_[i] } , ignore_index = True )\n",
    "\n",
    "df = df.sort_values(by='Linear Reg')\n",
    "df"
   ]
  },
  {
   "cell_type": "code",
   "execution_count": 79,
   "metadata": {},
   "outputs": [],
   "source": [
    "l = list(df['Columns'].values)\n"
   ]
  },
  {
   "cell_type": "code",
   "execution_count": 81,
   "metadata": {},
   "outputs": [],
   "source": [
    "# df.set_index('Columns').plot(kind = 'bar' , figsize = (10,6) )"
   ]
  },
  {
   "cell_type": "code",
   "execution_count": 68,
   "metadata": {},
   "outputs": [],
   "source": [
    "df.plot?"
   ]
  },
  {
   "cell_type": "code",
   "execution_count": null,
   "metadata": {},
   "outputs": [],
   "source": []
  }
 ],
 "metadata": {
  "kernelspec": {
   "display_name": "Python 3",
   "language": "python",
   "name": "python3"
  },
  "language_info": {
   "codemirror_mode": {
    "name": "ipython",
    "version": 3
   },
   "file_extension": ".py",
   "mimetype": "text/x-python",
   "name": "python",
   "nbconvert_exporter": "python",
   "pygments_lexer": "ipython3",
   "version": "3.7.3"
  }
 },
 "nbformat": 4,
 "nbformat_minor": 2
}
